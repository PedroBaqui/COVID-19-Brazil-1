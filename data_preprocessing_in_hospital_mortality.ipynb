{
 "cells": [
  {
   "cell_type": "code",
   "execution_count": 1,
   "metadata": {
    "collapsed": true
   },
   "outputs": [],
   "source": [
    "import pandas as pd\n",
    "import numpy as np\n",
    "import statsmodels.api as sm\n",
    "\n",
    "import matplotlib.pyplot as plt\n",
    "import seaborn as sns"
   ]
  },
  {
   "cell_type": "code",
   "execution_count": null,
   "metadata": {},
   "outputs": [],
   "source": [
    "all_data = pd.read_csv(\"data/INFLU20-04052020.csv\", sep=';', encoding = \"ISO-8859-1\")\n",
    "\n",
    "# COVID-19 patients\n",
    "all_data = all_data[all_data['PCR_SARS2']==1]"
   ]
  },
  {
   "cell_type": "code",
   "execution_count": 3,
   "metadata": {},
   "outputs": [
    {
     "name": "stdout",
     "output_type": "stream",
     "text": [
      "(19940, 138)\n"
     ]
    }
   ],
   "source": [
    "print (all_data.shape)"
   ]
  },
  {
   "cell_type": "markdown",
   "metadata": {},
   "source": [
    "### Remove patients without ethnicity recorded"
   ]
  },
  {
   "cell_type": "code",
   "execution_count": 4,
   "metadata": {},
   "outputs": [],
   "source": [
    "all_data = all_data[~all_data['CS_RACA'].isnull()]\n",
    "all_data = all_data[all_data['CS_RACA']!=9]"
   ]
  },
  {
   "cell_type": "code",
   "execution_count": 5,
   "metadata": {},
   "outputs": [
    {
     "name": "stdout",
     "output_type": "stream",
     "text": [
      "(12221, 138)\n"
     ]
    }
   ],
   "source": [
    "print (all_data.shape)"
   ]
  },
  {
   "cell_type": "markdown",
   "metadata": {},
   "source": [
    "### Keep only hospitalized patients"
   ]
  },
  {
   "cell_type": "code",
   "execution_count": 6,
   "metadata": {},
   "outputs": [],
   "source": [
    "hospitalized_patients = all_data[(all_data['HOSPITAL']==1)]"
   ]
  },
  {
   "cell_type": "code",
   "execution_count": 7,
   "metadata": {},
   "outputs": [
    {
     "name": "stdout",
     "output_type": "stream",
     "text": [
      "(11321, 138)\n"
     ]
    }
   ],
   "source": [
    "print (hospitalized_patients.shape)"
   ]
  },
  {
   "cell_type": "markdown",
   "metadata": {},
   "source": [
    "## Data pre-processing"
   ]
  },
  {
   "cell_type": "code",
   "execution_count": 8,
   "metadata": {},
   "outputs": [],
   "source": [
    "translate = {'NU_IDADE_N': 'Age', 'CS_SEXO': 'Sex', 'EVOLUCAO':'Evolution', 'CS_RACA':'Race',\n",
    "    \n",
    "             'FEBRE':'Fever', 'TOSSE': 'Cough', 'GARGANTA': 'Sore_throat', \n",
    "             'DISPNEIA':'Shortness_of_breath', 'DESC_RESP':'Respiratory_discomfort', 'SATURACAO':'SPO2',  \n",
    "             'DIARREIA':'Dihareea', 'VOMITO':'Vomitting', \n",
    "             \n",
    "             'CARDIOPATI': 'Cardiovascular', 'HEPATICA': 'Liver', 'ASMA': 'Asthma', \n",
    "             'DIABETES': 'Diabetis', 'NEUROLOGIC': 'Neurologic', 'PNEUMOPATI': 'Pulmonary',\n",
    "             'IMUNODEPRE': 'Immunosuppresion', 'RENAL':'Renal', 'OBESIDADE': 'Obesity'}\n",
    "hospitalized_patients = hospitalized_patients.rename(columns=translate)"
   ]
  },
  {
   "cell_type": "code",
   "execution_count": 9,
   "metadata": {},
   "outputs": [],
   "source": [
    "demographics = ['Age', 'Sex', 'Race', 'SG_UF_NOT']\n",
    "\n",
    "symptoms = ['Fever','Cough', 'Sore_throat', 'Shortness_of_breath', 'Respiratory_discomfort', 'SPO2', 'Dihareea', 'Vomitting']\n",
    "\n",
    "comorbidities = ['Cardiovascular',  'Asthma', 'Diabetis', 'Pulmonary', 'Immunosuppresion',\n",
    "                 'Obesity', 'Liver', 'Neurologic', 'Renal']\n",
    "\n",
    "outcome = ['Evolution']\n",
    "\n",
    "races = ['Branca', 'Preta', 'Amarela', 'Parda', 'Indigena']\n",
    "\n",
    "event_dates = ['DT_SIN_PRI', 'DT_COLETA', 'DT_PCR', 'DT_INTERNA',  'DT_ENTUTI', 'DT_EVOLUCA', 'DT_ENCERRA']\n",
    "\n",
    "age_groups = ['Age_40', 'Age_40_50', 'Age_50_60', 'Age_60_70', 'Age_70']"
   ]
  },
  {
   "cell_type": "code",
   "execution_count": 10,
   "metadata": {},
   "outputs": [],
   "source": [
    "race_encoding = {1.0: 'Branca', 2.0:'Preta', 3.0:'Amarela', 4.0:'Parda', 5.0: 'Indigena'}\n",
    "hospitalized_patients['Race'] = hospitalized_patients['Race'].apply(lambda i: race_encoding[i])\n",
    "\n",
    "for race in races:\n",
    "    hospitalized_patients[race] = (hospitalized_patients['Race'] == race).astype(np.int32)"
   ]
  },
  {
   "cell_type": "code",
   "execution_count": 11,
   "metadata": {},
   "outputs": [],
   "source": [
    "hospitalized_patients['Age_40'] = (hospitalized_patients['Age'] < 40).astype(np.int32)\n",
    "hospitalized_patients['Age_40_50'] = ((hospitalized_patients['Age'] >= 40) &  (hospitalized_patients['Age'] < 50)).astype(np.int32)\n",
    "hospitalized_patients['Age_50_60'] = ((hospitalized_patients['Age'] >= 50) &  (hospitalized_patients['Age'] < 60)).astype(np.int32)\n",
    "hospitalized_patients['Age_60_70'] = ((hospitalized_patients['Age'] >= 60) &  (hospitalized_patients['Age'] < 70)).astype(np.int32)\n",
    "hospitalized_patients['Age_70'] = (hospitalized_patients['Age'] >= 70).astype(np.int32)"
   ]
  },
  {
   "cell_type": "code",
   "execution_count": 12,
   "metadata": {},
   "outputs": [],
   "source": [
    "for event_date in event_dates:\n",
    "    hospitalized_patients[event_date] = pd.to_datetime(hospitalized_patients[event_date], format=\"%d/%m/%Y\")"
   ]
  },
  {
   "cell_type": "code",
   "execution_count": 13,
   "metadata": {},
   "outputs": [],
   "source": [
    "hospitalized_patients['Sex_male'] = (hospitalized_patients['Sex'] == 'M').astype(np.int32)\n",
    "hospitalized_patients['is_dead'] = (hospitalized_patients['Evolution'] == 2).astype(np.int32)"
   ]
  },
  {
   "cell_type": "code",
   "execution_count": null,
   "metadata": {},
   "outputs": [],
   "source": [
    "for comorbidity in comorbidities:\n",
    "    # fill in missing values for comorbidities\n",
    "    hospitalized_patients[comorbidity][hospitalized_patients[comorbidity].isnull()] = 0\n",
    "    hospitalized_patients[comorbidity][hospitalized_patients[comorbidity] == 9] = 0\n",
    "    # 2 indicates in the data that the comorbidity is not present\n",
    "    hospitalized_patients[comorbidity][hospitalized_patients[comorbidity] == 2] = 0\n",
    "\n",
    "for symptom in symptoms:\n",
    "    # fill in missing values for symptoms\n",
    "    hospitalized_patients[symptom][hospitalized_patients[symptom].isnull()] = 0\n",
    "    hospitalized_patients[symptom][hospitalized_patients[symptom] == 9] = 0\n",
    "    # 2 indicates in the data that the symptom is not present\n",
    "    hospitalized_patients[symptom][hospitalized_patients[symptom] == 2] = 0"
   ]
  },
  {
   "cell_type": "markdown",
   "metadata": {},
   "source": [
    "### Compute number of days between hospital admission and outcome"
   ]
  },
  {
   "cell_type": "code",
   "execution_count": 15,
   "metadata": {},
   "outputs": [],
   "source": [
    "hospitalized_patients['Days_hospital_to_outcome'] = (hospitalized_patients['DT_EVOLUCA'] - hospitalized_patients['DT_INTERNA']).dt.days"
   ]
  },
  {
   "cell_type": "markdown",
   "metadata": {},
   "source": [
    "### Keep patients that have an outcome recorded (indicated by a valid number of days between hospitalization and outcome)"
   ]
  },
  {
   "cell_type": "code",
   "execution_count": 16,
   "metadata": {},
   "outputs": [],
   "source": [
    "patients_with_outcome = hospitalized_patients[~hospitalized_patients['Days_hospital_to_outcome'].isnull()]"
   ]
  },
  {
   "cell_type": "markdown",
   "metadata": {},
   "source": [
    "# Save data to perform Cox regression in R"
   ]
  },
  {
   "cell_type": "code",
   "execution_count": 17,
   "metadata": {},
   "outputs": [],
   "source": [
    "feature_to_save = ['is_dead', 'Days_hospital_to_outcome', 'Sex_male']  + \\\n",
    "                  demographics + age_groups + symptoms + comorbidities + races "
   ]
  },
  {
   "cell_type": "code",
   "execution_count": 18,
   "metadata": {},
   "outputs": [],
   "source": [
    "data_save = patients_with_outcome[feature_to_save]\n",
    "data_save.to_csv('data/data_for_cox_regression_in_hospital_mortality.csv', index=None)"
   ]
  },
  {
   "cell_type": "code",
   "execution_count": 19,
   "metadata": {},
   "outputs": [
    {
     "data": {
      "text/plain": [
       "(6882, 34)"
      ]
     },
     "execution_count": 19,
     "metadata": {},
     "output_type": "execute_result"
    }
   ],
   "source": [
    "data_save.shape"
   ]
  }
 ],
 "metadata": {
  "kernelspec": {
   "display_name": "Python 3",
   "language": "python",
   "name": "python3"
  },
  "language_info": {
   "codemirror_mode": {
    "name": "ipython",
    "version": 3
   },
   "file_extension": ".py",
   "mimetype": "text/x-python",
   "name": "python",
   "nbconvert_exporter": "python",
   "pygments_lexer": "ipython3",
   "version": "3.6.8"
  }
 },
 "nbformat": 4,
 "nbformat_minor": 2
}
