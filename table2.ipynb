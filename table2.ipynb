{
 "cells": [
  {
   "cell_type": "code",
   "execution_count": 1,
   "metadata": {},
   "outputs": [],
   "source": [
    "# Table 2"
   ]
  },
  {
   "cell_type": "code",
   "execution_count": 2,
   "metadata": {},
   "outputs": [],
   "source": [
    "# libraries\n",
    "\n",
    "import pandas as pd\n",
    "import matplotlib.pyplot as plt\n",
    "import numpy as np\n",
    "import seaborn as sns"
   ]
  },
  {
   "cell_type": "code",
   "execution_count": 3,
   "metadata": {},
   "outputs": [
    {
     "name": "stderr",
     "output_type": "stream",
     "text": [
      "/home/pedro/anaconda3/lib/python3.7/site-packages/IPython/core/interactiveshell.py:2785: DtypeWarning: Columns (18,61,62,63,105,107,123,132,136) have mixed types. Specify dtype option on import or set low_memory=False.\n",
      "  interactivity=interactivity, compiler=compiler, result=result)\n"
     ]
    },
    {
     "name": "stdout",
     "output_type": "stream",
     "text": [
      "confirmed data in North Northeast: 2043\n"
     ]
    },
    {
     "name": "stderr",
     "output_type": "stream",
     "text": [
      "/home/pedro/anaconda3/lib/python3.7/site-packages/ipykernel_launcher.py:13: UserWarning: Boolean Series key will be reindexed to match DataFrame index.\n",
      "  del sys.path[0]\n",
      "/home/pedro/anaconda3/lib/python3.7/site-packages/ipykernel_launcher.py:13: UserWarning: Boolean Series key will be reindexed to match DataFrame index.\n",
      "  del sys.path[0]\n",
      "/home/pedro/anaconda3/lib/python3.7/site-packages/ipykernel_launcher.py:13: UserWarning: Boolean Series key will be reindexed to match DataFrame index.\n",
      "  del sys.path[0]\n",
      "/home/pedro/anaconda3/lib/python3.7/site-packages/ipykernel_launcher.py:13: UserWarning: Boolean Series key will be reindexed to match DataFrame index.\n",
      "  del sys.path[0]\n"
     ]
    }
   ],
   "source": [
    "# reading dataset\n",
    "\n",
    "df = pd.read_csv('/home/pedro/Desktop/covid/influd_5may/INFLU20-04052020.csv',sep=';',encoding = \"ISO-8859-1\")\n",
    "\n",
    "# Selecting people from South Center with COVID-19\n",
    "#df = df[df['PCR_SARS2']==1][(df['SG_UF_NOT']=='SP') | (df['SG_UF_NOT']=='RJ')| (df['SG_UF_NOT']=='RS')\\\n",
    "#| (df['SG_UF_NOT']=='SC')| (df['SG_UF_NOT']=='DF')| (df['SG_UF_NOT']=='ES')| (df['SG_UF_NOT']=='PR')\\\n",
    "#| (df['SG_UF_NOT']=='MG')| (df['SG_UF_NOT']=='MS')| (df['SG_UF_NOT']=='GO')| (df['SG_UF_NOT']=='MT')]\\\n",
    "#[df['CS_RACA']!=9][df['CS_RACA'].notna()][df['HOSPITAL']==1]\n",
    " \n",
    "\n",
    "# Selecting people from North Northeast with COVID-19\n",
    "df = df[df['PCR_SARS2']==1][(df['SG_UF_NOT']=='RO') | (df['SG_UF_NOT']=='TO')| (df['SG_UF_NOT']=='RN')\\\n",
    "| (df['SG_UF_NOT']=='PE')| (df['SG_UF_NOT']=='AM')| (df['SG_UF_NOT']=='SE')| (df['SG_UF_NOT']=='CE')\\\n",
    "| (df['SG_UF_NOT']=='PB')| (df['SG_UF_NOT']=='BA')| (df['SG_UF_NOT']=='RR')| (df['SG_UF_NOT']=='AC')\\\n",
    "| (df['SG_UF_NOT']=='PA')| (df['SG_UF_NOT']=='AL')| (df['SG_UF_NOT']=='PI')| (df['SG_UF_NOT']=='MA')\\\n",
    "| (df['SG_UF_NOT']=='AP')][df['CS_RACA']!=9][df['CS_RACA'].notna()][df['HOSPITAL']==1]\n",
    "\n",
    "print('confirmed data in North Northeast:',df.shape[0])\n",
    "#print('confirmed data in South Center:',df.shape[0])\n"
   ]
  },
  {
   "cell_type": "code",
   "execution_count": 4,
   "metadata": {},
   "outputs": [
    {
     "name": "stdout",
     "output_type": "stream",
     "text": [
      "2.0    871\n",
      "1.0    479\n",
      "9.0     85\n",
      "Name: EVOLUCAO, dtype: int64\n",
      "608\n"
     ]
    }
   ],
   "source": [
    "# diagnostico\n",
    "# hospitalization\n",
    "# ICU \n",
    "\n",
    "print(df['EVOLUCAO'].value_counts())\n",
    "print(df['EVOLUCAO'].isna().sum())"
   ]
  },
  {
   "cell_type": "code",
   "execution_count": 5,
   "metadata": {},
   "outputs": [
    {
     "name": "stdout",
     "output_type": "stream",
     "text": [
      "1.0     67\n",
      "2.0     15\n",
      "3.0      7\n",
      "4.0    315\n",
      "5.0      3\n",
      "Name: CS_RACA, dtype: int64\n",
      "1.0    16.461916\n",
      "2.0     3.685504\n",
      "3.0     1.719902\n",
      "4.0    77.395577\n",
      "5.0     0.737101\n",
      "Name: CS_RACA, dtype: float64\n"
     ]
    }
   ],
   "source": [
    "# Deaths hospitalization and ICU\n",
    "\n",
    "\n",
    "print(df['CS_RACA'][((df['EVOLUCAO']==2)&(df['UTI']==1))].value_counts().sort_index(ascending=True))\n",
    "print(100*df['CS_RACA'][((df['EVOLUCAO']==2)&(df['UTI']==1))].value_counts().sort_index(ascending=True)/df['CS_RACA'][((df['EVOLUCAO']==2)&(df['UTI']==1))].value_counts().sum())\n",
    "\n",
    "#  UTI:        1- Yes    2- Not       9-Ignored \n",
    "#  EVOLUCAO:   1- Cure   2- Death     9-Ignored\n",
    "\n"
   ]
  },
  {
   "cell_type": "code",
   "execution_count": 6,
   "metadata": {},
   "outputs": [
    {
     "name": "stdout",
     "output_type": "stream",
     "text": [
      "1.0     47\n",
      "2.0     13\n",
      "3.0      4\n",
      "4.0    286\n",
      "Name: CS_RACA, dtype: int64\n",
      "1.0    13.428571\n",
      "2.0     3.714286\n",
      "3.0     1.142857\n",
      "4.0    81.714286\n",
      "Name: CS_RACA, dtype: float64\n"
     ]
    }
   ],
   "source": [
    "# Deaths hospitalization and without ICU\n",
    "\n",
    "\n",
    "print(df['CS_RACA'][((df['EVOLUCAO']==2)&(df['UTI']==2))].value_counts().sort_index(ascending=True))\n",
    "print(100*df['CS_RACA'][((df['EVOLUCAO']==2)&(df['UTI']==2))].value_counts().sort_index(ascending=True)/df['CS_RACA'][((df['EVOLUCAO']==2)&(df['UTI']==2))].value_counts().sum())\n",
    "\n"
   ]
  },
  {
   "cell_type": "code",
   "execution_count": 7,
   "metadata": {},
   "outputs": [
    {
     "data": {
      "image/png": "[encoded data removed]",
      "text/plain": [
       "<Figure size 720x360 with 1 Axes>"
      ]
     },
     "metadata": {
      "needs_background": "light"
     },
     "output_type": "display_data"
    },
    {
     "name": "stdout",
     "output_type": "stream",
     "text": [
      "1.0     342\n",
      "2.0      85\n",
      "3.0      36\n",
      "4.0    1567\n",
      "5.0      13\n",
      "Name: CS_RACA, dtype: int64\n",
      "1.0    16.740088\n",
      "2.0     4.160548\n",
      "3.0     1.762115\n",
      "4.0    76.700930\n",
      "5.0     0.636319\n",
      "Name: CS_RACA, dtype: float64\n"
     ]
    }
   ],
   "source": [
    "# Data distribution color in diagnosis\n",
    "\n",
    "city_count  = df['CS_RACA'].value_counts()\n",
    "city_count = city_count[:,]\n",
    "plt.figure(figsize=(10,5))\n",
    "sns.barplot(city_count.index, city_count.values, alpha=1)\n",
    "plt.title('Data distribution for brazilian states for North region', fontsize=12)\n",
    "plt.ylabel('Number of Occurrences', fontsize=12)\n",
    "bars = ('Branca', 'Preta', 'Amarela', 'Parda', 'Indígena')\n",
    "y_pos = np.arange(len(bars))\n",
    "plt.xticks(y_pos, bars)\n",
    "plt.show()\n",
    "\n",
    "\n",
    "# General ditribution\n",
    "print(df['CS_RACA'].value_counts().sort_index(ascending=True))\n",
    "print(100*df['CS_RACA'].value_counts().sort_index(ascending=True)/df['CS_RACA'].notnull().sum())"
   ]
  },
  {
   "cell_type": "code",
   "execution_count": 8,
   "metadata": {},
   "outputs": [
    {
     "data": {
      "image/png": "[encoded data removed]",
      "text/plain": [
       "<Figure size 720x360 with 1 Axes>"
      ]
     },
     "metadata": {
      "needs_background": "light"
     },
     "output_type": "display_data"
    },
    {
     "name": "stdout",
     "output_type": "stream",
     "text": [
      "1.0    19.478528\n",
      "2.0     3.987730\n",
      "3.0     1.993865\n",
      "4.0    73.773006\n",
      "5.0     0.766871\n",
      "Name: CS_RACA, dtype: float64\n",
      "1.0    127\n",
      "2.0     26\n",
      "3.0     13\n",
      "4.0    481\n",
      "5.0      5\n",
      "Name: CS_RACA, dtype: int64\n"
     ]
    }
   ],
   "source": [
    "# Data distribution for people in UCI\n",
    "\n",
    "city_count  = df['CS_RACA'][df['UTI']==1].value_counts()/df['CS_RACA'][df['UTI']==1].notnull().sum()\n",
    "city_count = city_count[:,]\n",
    "plt.figure(figsize=(10,5))\n",
    "sns.barplot(city_count.index, city_count.values, alpha=1)\n",
    "plt.ylabel('Normalized occurrences', fontsize=12)\n",
    "bars = ('Branca', 'Preta', 'Amarela', 'Parda', 'Indígena')\n",
    "y_pos = np.arange(len(bars))\n",
    "plt.xticks(y_pos, bars)\n",
    "plt.show()\n",
    "\n",
    "# percentage\n",
    "print(100*df['CS_RACA'][df['UTI']==1].value_counts().sort_index(ascending=True)/df['CS_RACA'][df['UTI']==1].notnull().sum())\n",
    "print(df['CS_RACA'][df['UTI']==1].value_counts().sort_index(ascending=True))"
   ]
  },
  {
   "cell_type": "code",
   "execution_count": 9,
   "metadata": {},
   "outputs": [
    {
     "data": {
      "image/png": "[encoded data removed]",
      "text/plain": [
       "<Figure size 720x360 with 1 Axes>"
      ]
     },
     "metadata": {
      "needs_background": "light"
     },
     "output_type": "display_data"
    },
    {
     "name": "stdout",
     "output_type": "stream",
     "text": [
      "1.0    15.614237\n",
      "2.0     4.018370\n",
      "3.0     1.377727\n",
      "4.0    78.415614\n",
      "5.0     0.574053\n",
      "Name: CS_RACA, dtype: float64\n",
      "1.0    136\n",
      "2.0     35\n",
      "3.0     12\n",
      "4.0    683\n",
      "5.0      5\n",
      "Name: CS_RACA, dtype: int64\n"
     ]
    }
   ],
   "source": [
    "# Data distribution for died people \n",
    "\n",
    "city_count  = df['CS_RACA'][df['EVOLUCAO']==2].value_counts()/df['CS_RACA'][df['EVOLUCAO']==2].notnull().sum()\n",
    "city_count = city_count[:,]\n",
    "city_count = city_count[:,]\n",
    "plt.figure(figsize=(10,5))\n",
    "sns.barplot(city_count.index, city_count.values, alpha=1)\n",
    "plt.ylabel('Number of Occurrences', fontsize=12)\n",
    "bars = ('Branca', 'Preta', 'Amarela', 'Parda', 'Indígena')\n",
    "y_pos = np.arange(len(bars))\n",
    "plt.xticks(y_pos, bars)\n",
    "plt.show()\n",
    "\n",
    "# percentage\n",
    "print(100*df['CS_RACA'][df['EVOLUCAO']==2].value_counts().sort_index(ascending=True)/df['CS_RACA'][df['EVOLUCAO']==2].notnull().sum())\n",
    "print(df['CS_RACA'][df['EVOLUCAO']==2].value_counts().sort_index(ascending=True))"
   ]
  }
 ],
 "metadata": {
  "kernelspec": {
   "display_name": "Python 3",
   "language": "python",
   "name": "python3"
  },
  "language_info": {
   "codemirror_mode": {
    "name": "ipython",
    "version": 3
   },
   "file_extension": ".py",
   "mimetype": "text/x-python",
   "name": "python",
   "nbconvert_exporter": "python",
   "pygments_lexer": "ipython3",
   "version": "3.7.3"
  }
 },
 "nbformat": 4,
 "nbformat_minor": 2
}
