{
 "cells": [
  {
   "cell_type": "code",
   "execution_count": 1,
   "metadata": {},
   "outputs": [],
   "source": [
    "# Table 1 -   Survive and Not-survive"
   ]
  },
  {
   "cell_type": "code",
   "execution_count": 2,
   "metadata": {},
   "outputs": [],
   "source": [
    "# libraries\n",
    "\n",
    "import pandas as pd\n",
    "import matplotlib.pyplot as plt\n",
    "import numpy as np\n",
    "import seaborn as sns"
   ]
  },
  {
   "cell_type": "code",
   "execution_count": 3,
   "metadata": {},
   "outputs": [
    {
     "name": "stderr",
     "output_type": "stream",
     "text": [
      "/home/pedro/anaconda3/lib/python3.7/site-packages/IPython/core/interactiveshell.py:2785: DtypeWarning: Columns (18,61,62,63,105,107,123,132,136) have mixed types. Specify dtype option on import or set low_memory=False.\n",
      "  interactivity=interactivity, compiler=compiler, result=result)\n"
     ]
    },
    {
     "name": "stdout",
     "output_type": "stream",
     "text": [
      "confirmed data in North Northeast: 2043\n"
     ]
    },
    {
     "name": "stderr",
     "output_type": "stream",
     "text": [
      "/home/pedro/anaconda3/lib/python3.7/site-packages/ipykernel_launcher.py:14: UserWarning: Boolean Series key will be reindexed to match DataFrame index.\n",
      "  \n",
      "/home/pedro/anaconda3/lib/python3.7/site-packages/ipykernel_launcher.py:14: UserWarning: Boolean Series key will be reindexed to match DataFrame index.\n",
      "  \n",
      "/home/pedro/anaconda3/lib/python3.7/site-packages/ipykernel_launcher.py:14: UserWarning: Boolean Series key will be reindexed to match DataFrame index.\n",
      "  \n",
      "/home/pedro/anaconda3/lib/python3.7/site-packages/ipykernel_launcher.py:14: UserWarning: Boolean Series key will be reindexed to match DataFrame index.\n",
      "  \n"
     ]
    }
   ],
   "source": [
    "# reading dataset\n",
    "\n",
    "df = pd.read_csv('/home/pedro/Desktop/covid/influd_5may/INFLU20-04052020.csv',sep=';',encoding = \"ISO-8859-1\")\n",
    "\n",
    "# Selecting people from South Center with COVID-19\n",
    "#df = df[df['PCR_SARS2']==1][(df['SG_UF_NOT']=='SP') | (df['SG_UF_NOT']=='RJ')| (df['SG_UF_NOT']=='RS')\\\n",
    "#| (df['SG_UF_NOT']=='SC')| (df['SG_UF_NOT']=='DF')| (df['SG_UF_NOT']=='ES')| (df['SG_UF_NOT']=='PR')\\\n",
    "#| (df['SG_UF_NOT']=='MG')| (df['SG_UF_NOT']=='MS')| (df['SG_UF_NOT']=='GO')| (df['SG_UF_NOT']=='MT')]\\\n",
    "#[df['CS_RACA']!=9.0][df['CS_RACA'].notna()][df['HOSPITAL']==1]\n",
    "\n",
    "\n",
    "# Selecting people from North Northeast with COVID-19\n",
    "df = df[df['PCR_SARS2']==1][(df['SG_UF_NOT']=='RO') | (df['SG_UF_NOT']=='TO')| (df['SG_UF_NOT']=='RN')\\\n",
    "| (df['SG_UF_NOT']=='PE')| (df['SG_UF_NOT']=='AM')| (df['SG_UF_NOT']=='SE')| (df['SG_UF_NOT']=='CE')\\\n",
    "| (df['SG_UF_NOT']=='PB')| (df['SG_UF_NOT']=='BA')| (df['SG_UF_NOT']=='RR')| (df['SG_UF_NOT']=='AC')\\\n",
    "| (df['SG_UF_NOT']=='PA')| (df['SG_UF_NOT']=='AL')| (df['SG_UF_NOT']=='PI')| (df['SG_UF_NOT']=='MA')\n",
    "| (df['SG_UF_NOT']=='AP')][df['CS_RACA']!=9][df['CS_RACA'].notna()][df['HOSPITAL']==1]\n",
    "\n",
    "\n",
    "#print('confirmed data in South Center:',df.shape[0])\n",
    "print('confirmed data in North Northeast:',df.shape[0])"
   ]
  },
  {
   "cell_type": "code",
   "execution_count": 4,
   "metadata": {},
   "outputs": [
    {
     "name": "stdout",
     "output_type": "stream",
     "text": [
      "2.0    871\n",
      "1.0    479\n",
      "9.0     85\n",
      "Name: EVOLUCAO, dtype: int64\n",
      "2.0    64.518519\n",
      "1.0    35.481481\n",
      "Name: EVOLUCAO, dtype: float64\n"
     ]
    }
   ],
   "source": [
    "print(df['EVOLUCAO'].value_counts())\n",
    "print(100*df['EVOLUCAO'][df['EVOLUCAO'] != 9].value_counts()/df['EVOLUCAO'][df['EVOLUCAO'] != 9].notnull().sum())\n"
   ]
  },
  {
   "cell_type": "code",
   "execution_count": 5,
   "metadata": {},
   "outputs": [
    {
     "name": "stdout",
     "output_type": "stream",
     "text": [
      "46.947807933194156\n",
      "65.29276693455797\n"
     ]
    }
   ],
   "source": [
    "# mean age\n",
    "\n",
    "#Cured people\n",
    "print(df['NU_IDADE_N'][df['EVOLUCAO']==1].mean())\n",
    "\n",
    "# Died people\n",
    "print(df['NU_IDADE_N'][df['EVOLUCAO']==2].mean())"
   ]
  },
  {
   "cell_type": "code",
   "execution_count": 6,
   "metadata": {},
   "outputs": [
    {
     "name": "stdout",
     "output_type": "stream",
     "text": [
      "19.281752337852037\n",
      "16.0088461332846\n"
     ]
    }
   ],
   "source": [
    "# std age\n",
    "\n",
    "#Cured people\n",
    "print(df['NU_IDADE_N'][df['EVOLUCAO']==1].std())\n",
    "\n",
    "# Died people\n",
    "print(df['NU_IDADE_N'][df['EVOLUCAO']==2].std())"
   ]
  },
  {
   "cell_type": "code",
   "execution_count": 7,
   "metadata": {},
   "outputs": [
    {
     "name": "stdout",
     "output_type": "stream",
     "text": [
      "2.0    337\n",
      "1.0    218\n",
      "Name: EVOLUCAO, dtype: int64\n",
      "555\n",
      "2.0    60.720721\n",
      "1.0    39.279279\n",
      "Name: EVOLUCAO, dtype: float64\n"
     ]
    }
   ],
   "source": [
    "# Female\n",
    "\n",
    "print(df['EVOLUCAO'][((df['CS_SEXO'] == 'F') & (df['EVOLUCAO'] != 9))].value_counts())\n",
    "print(df['EVOLUCAO'][((df['CS_SEXO'] == 'F') & (df['EVOLUCAO'] != 9))].notnull().sum())\n",
    "\n",
    "print(100*df['EVOLUCAO'][((df['CS_SEXO'] == 'F') & (df['EVOLUCAO'] != 9))].value_counts()/df['EVOLUCAO'][((df['CS_SEXO'] == 'F') & (df['EVOLUCAO'] != 9))].notnull().sum())\n",
    "\n",
    "# 1- Cured  2- Died"
   ]
  },
  {
   "cell_type": "code",
   "execution_count": 8,
   "metadata": {},
   "outputs": [],
   "source": [
    "# Color\n",
    " \n",
    "# Branca, Preta, Amarela, Parda and Indígena"
   ]
  },
  {
   "cell_type": "code",
   "execution_count": 9,
   "metadata": {},
   "outputs": [
    {
     "name": "stdout",
     "output_type": "stream",
     "text": [
      "2.0    136\n",
      "1.0     89\n",
      "Name: EVOLUCAO, dtype: int64\n",
      "225\n",
      "2.0    60.444444\n",
      "1.0    39.555556\n",
      "Name: EVOLUCAO, dtype: float64\n"
     ]
    }
   ],
   "source": [
    "\n",
    "# Branca\n",
    "\n",
    "print(df['EVOLUCAO'][((df['CS_RACA'] == 1) & (df['EVOLUCAO'] != 9))].value_counts())\n",
    "print(df['EVOLUCAO'][((df['CS_RACA'] == 1) & (df['EVOLUCAO'] != 9))].notnull().sum())\n",
    "\n",
    "print(100*df['EVOLUCAO'][((df['CS_RACA'] == 1) & (df['EVOLUCAO'] != 9))].value_counts()/df['EVOLUCAO'][((df['CS_RACA'] == 1) & (df['EVOLUCAO'] != 9))].notnull().sum())\n",
    "\n",
    "\n",
    "# 1- Cured  2- Died (Evolution)"
   ]
  },
  {
   "cell_type": "code",
   "execution_count": 10,
   "metadata": {},
   "outputs": [
    {
     "name": "stdout",
     "output_type": "stream",
     "text": [
      "2.0    35\n",
      "1.0    16\n",
      "Name: EVOLUCAO, dtype: int64\n",
      "51\n",
      "2.0    68.627451\n",
      "1.0    31.372549\n",
      "Name: EVOLUCAO, dtype: float64\n"
     ]
    }
   ],
   "source": [
    "# Preta\n",
    "\n",
    "print(df['EVOLUCAO'][((df['CS_RACA'] == 2) & (df['EVOLUCAO'] != 9))].value_counts())\n",
    "print(df['EVOLUCAO'][((df['CS_RACA'] == 2) & (df['EVOLUCAO'] != 9))].notnull().sum())\n",
    "\n",
    "print(100*df['EVOLUCAO'][((df['CS_RACA'] == 2) & (df['EVOLUCAO'] != 9))].value_counts()/df['EVOLUCAO'][((df['CS_RACA'] == 2) & (df['EVOLUCAO'] != 9))].notnull().sum())\n"
   ]
  },
  {
   "cell_type": "code",
   "execution_count": 11,
   "metadata": {},
   "outputs": [
    {
     "name": "stdout",
     "output_type": "stream",
     "text": [
      "2.0    12\n",
      "1.0     5\n",
      "Name: EVOLUCAO, dtype: int64\n",
      "17\n",
      "2.0    70.588235\n",
      "1.0    29.411765\n",
      "Name: EVOLUCAO, dtype: float64\n"
     ]
    }
   ],
   "source": [
    "# Amarela\n",
    "\n",
    "print(df['EVOLUCAO'][((df['CS_RACA'] == 3) & (df['EVOLUCAO'] != 9))].value_counts())\n",
    "print(df['EVOLUCAO'][((df['CS_RACA'] == 3) & (df['EVOLUCAO'] != 9))].notnull().sum())\n",
    "\n",
    "print(100*df['EVOLUCAO'][((df['CS_RACA'] == 3) & (df['EVOLUCAO'] != 9))].value_counts()/df['EVOLUCAO'][((df['CS_RACA'] == 3) & (df['EVOLUCAO'] != 9))].notnull().sum())\n"
   ]
  },
  {
   "cell_type": "code",
   "execution_count": 12,
   "metadata": {},
   "outputs": [
    {
     "name": "stdout",
     "output_type": "stream",
     "text": [
      "2.0    683\n",
      "1.0    366\n",
      "Name: EVOLUCAO, dtype: int64\n",
      "1049\n",
      "2.0    65.109628\n",
      "1.0    34.890372\n",
      "Name: EVOLUCAO, dtype: float64\n"
     ]
    }
   ],
   "source": [
    "# Parda\n",
    "\n",
    "print(df['EVOLUCAO'][((df['CS_RACA'] == 4) & (df['EVOLUCAO'] != 9))].value_counts())\n",
    "print(df['EVOLUCAO'][((df['CS_RACA'] == 4) & (df['EVOLUCAO'] != 9))].notnull().sum())\n",
    "\n",
    "print(100*df['EVOLUCAO'][((df['CS_RACA'] == 4) & (df['EVOLUCAO'] != 9))].value_counts()/df['EVOLUCAO'][((df['CS_RACA'] == 4) & (df['EVOLUCAO'] != 9))].notnull().sum())\n"
   ]
  },
  {
   "cell_type": "code",
   "execution_count": 13,
   "metadata": {},
   "outputs": [
    {
     "name": "stdout",
     "output_type": "stream",
     "text": [
      "2.0    5\n",
      "1.0    3\n",
      "Name: EVOLUCAO, dtype: int64\n",
      "8\n",
      "2.0    62.5\n",
      "1.0    37.5\n",
      "Name: EVOLUCAO, dtype: float64\n"
     ]
    }
   ],
   "source": [
    "# Indígena\n",
    "\n",
    "print(df['EVOLUCAO'][((df['CS_RACA'] == 5) & (df['EVOLUCAO'] != 9))].value_counts())\n",
    "print(df['EVOLUCAO'][((df['CS_RACA'] == 5) & (df['EVOLUCAO'] != 9))].notnull().sum())\n",
    "\n",
    "print(100*df['EVOLUCAO'][((df['CS_RACA'] == 5) & (df['EVOLUCAO'] != 9))].value_counts()/df['EVOLUCAO'][((df['CS_RACA'] == 5) & (df['EVOLUCAO'] != 9))].notnull().sum())\n"
   ]
  },
  {
   "cell_type": "code",
   "execution_count": 14,
   "metadata": {},
   "outputs": [],
   "source": [
    "# Disease Analysis"
   ]
  },
  {
   "cell_type": "code",
   "execution_count": 15,
   "metadata": {},
   "outputs": [
    {
     "name": "stdout",
     "output_type": "stream",
     "text": [
      "420\n",
      "2.0    325\n",
      "1.0     95\n",
      "Name: EVOLUCAO, dtype: int64\n",
      "2.0    77.380952\n",
      "1.0    22.619048\n",
      "Name: EVOLUCAO, dtype: float64\n"
     ]
    }
   ],
   "source": [
    "# Cardiovascular disease\n",
    "\n",
    "print(df['EVOLUCAO'][((df['CARDIOPATI'] ==1 ) & (df['EVOLUCAO'] != 9))].notnull().sum())\n",
    "print(df['EVOLUCAO'][((df['CARDIOPATI'] ==1 ) & (df['EVOLUCAO'] != 9))].value_counts())\n",
    "\n",
    "print(100*df['EVOLUCAO'][((df['CARDIOPATI'] == 1) & (df['EVOLUCAO'] != 9))].value_counts()/df['EVOLUCAO'][((df['CARDIOPATI'] == 1) & (df['EVOLUCAO'] != 9))].notnull().sum())\n",
    "\n",
    "# 1- Cured  2- Died"
   ]
  },
  {
   "cell_type": "code",
   "execution_count": 16,
   "metadata": {},
   "outputs": [
    {
     "name": "stdout",
     "output_type": "stream",
     "text": [
      "1.0    22\n",
      "2.0    13\n",
      "Name: EVOLUCAO, dtype: int64\n",
      "35\n",
      "1.0    62.857143\n",
      "2.0    37.142857\n",
      "Name: EVOLUCAO, dtype: float64\n"
     ]
    }
   ],
   "source": [
    "# Asthma\n",
    "\n",
    "print(df['EVOLUCAO'][((df['ASMA'] ==1 ) & (df['EVOLUCAO'] != 9))].value_counts())\n",
    "print(df['EVOLUCAO'][((df['ASMA'] ==1 ) & (df['EVOLUCAO'] != 9))].notnull().sum())\n",
    "\n",
    "print(100*df['EVOLUCAO'][((df['ASMA'] == 1) & (df['EVOLUCAO'] != 9))].value_counts()/df['EVOLUCAO'][((df['ASMA'] == 1) & (df['EVOLUCAO'] != 9))].notnull().sum())\n"
   ]
  },
  {
   "cell_type": "code",
   "execution_count": 17,
   "metadata": {},
   "outputs": [
    {
     "name": "stdout",
     "output_type": "stream",
     "text": [
      "371\n",
      "2.0    297\n",
      "1.0     74\n",
      "Name: EVOLUCAO, dtype: int64\n",
      "2.0    80.053908\n",
      "1.0    19.946092\n",
      "Name: EVOLUCAO, dtype: float64\n"
     ]
    }
   ],
   "source": [
    "# Diabetes\n",
    "\n",
    "print(df['EVOLUCAO'][((df['DIABETES'] ==1 ) & (df['EVOLUCAO'] != 9))].notnull().sum())\n",
    "print(df['EVOLUCAO'][((df['DIABETES'] ==1 ) & (df['EVOLUCAO'] != 9))].value_counts())\n",
    "\n",
    "print(100*df['EVOLUCAO'][((df['DIABETES'] == 1) & (df['EVOLUCAO'] != 9))].value_counts()/df['EVOLUCAO'][((df['DIABETES'] == 1) & (df['EVOLUCAO'] != 9))].notnull().sum())\n"
   ]
  },
  {
   "cell_type": "code",
   "execution_count": 18,
   "metadata": {},
   "outputs": [
    {
     "name": "stdout",
     "output_type": "stream",
     "text": [
      "51\n",
      "2.0    36\n",
      "1.0    15\n",
      "Name: EVOLUCAO, dtype: int64\n",
      "2.0    70.588235\n",
      "1.0    29.411765\n",
      "Name: EVOLUCAO, dtype: float64\n"
     ]
    }
   ],
   "source": [
    "# Pulmonary disease\n",
    "\n",
    "print(df['EVOLUCAO'][((df['PNEUMOPATI'] ==1 ) & (df['EVOLUCAO'] != 9))].notnull().sum())\n",
    "print(df['EVOLUCAO'][((df['PNEUMOPATI'] ==1 ) & (df['EVOLUCAO'] != 9))].value_counts())\n",
    "\n",
    "print(100*df['EVOLUCAO'][((df['PNEUMOPATI'] == 1) & (df['EVOLUCAO'] != 9))].value_counts()/df['EVOLUCAO'][((df['PNEUMOPATI'] == 1) & (df['EVOLUCAO'] != 9))].notnull().sum())\n"
   ]
  },
  {
   "cell_type": "code",
   "execution_count": 19,
   "metadata": {},
   "outputs": [
    {
     "name": "stdout",
     "output_type": "stream",
     "text": [
      "58\n",
      "2.0    45\n",
      "1.0    13\n",
      "Name: EVOLUCAO, dtype: int64\n",
      "2.0    77.586207\n",
      "1.0    22.413793\n",
      "Name: EVOLUCAO, dtype: float64\n"
     ]
    }
   ],
   "source": [
    "# Obesity\n",
    "\n",
    "print(df['EVOLUCAO'][((df['OBESIDADE'] ==1 ) & (df['EVOLUCAO'] != 9))].notnull().sum())\n",
    "print(df['EVOLUCAO'][((df['OBESIDADE'] ==1 ) & (df['EVOLUCAO'] != 9))].value_counts())\n",
    "\n",
    "print(100*df['EVOLUCAO'][((df['OBESIDADE'] ==1) & (df['EVOLUCAO'] != 9))].value_counts()/df['EVOLUCAO'][((df['OBESIDADE'] == 1) & (df['EVOLUCAO'] != 9))].notnull().sum())\n"
   ]
  },
  {
   "cell_type": "code",
   "execution_count": 20,
   "metadata": {},
   "outputs": [
    {
     "name": "stdout",
     "output_type": "stream",
     "text": [
      "49\n",
      "1.0    28\n",
      "2.0    21\n",
      "Name: EVOLUCAO, dtype: int64\n",
      "1.0    57.142857\n",
      "2.0    42.857143\n",
      "Name: EVOLUCAO, dtype: float64\n"
     ]
    }
   ],
   "source": [
    "# Immunosuppression\n",
    "\n",
    "print(df['EVOLUCAO'][((df['IMUNODEPRE'] ==1 ) & (df['EVOLUCAO'] != 9))].notnull().sum())\n",
    "print(df['EVOLUCAO'][((df['IMUNODEPRE'] ==1 ) & (df['EVOLUCAO'] != 9))].value_counts())\n",
    "\n",
    "print(100*df['EVOLUCAO'][((df['IMUNODEPRE'] ==1) & (df['EVOLUCAO'] != 9))].value_counts()/df['EVOLUCAO'][((df['IMUNODEPRE'] == 1) & (df['EVOLUCAO'] != 9))].notnull().sum())\n"
   ]
  },
  {
   "cell_type": "code",
   "execution_count": 21,
   "metadata": {},
   "outputs": [
    {
     "name": "stdout",
     "output_type": "stream",
     "text": [
      "69\n",
      "2.0    56\n",
      "1.0    13\n",
      "Name: EVOLUCAO, dtype: int64\n",
      "2.0    81.15942\n",
      "1.0    18.84058\n",
      "Name: EVOLUCAO, dtype: float64\n"
     ]
    }
   ],
   "source": [
    "# Renal disease \n",
    "\n",
    "print(df['EVOLUCAO'][((df['RENAL'] ==1 ) & (df['EVOLUCAO'] != 9))].notnull().sum())\n",
    "print(df['EVOLUCAO'][((df['RENAL'] ==1 ) & (df['EVOLUCAO'] != 9))].value_counts())\n",
    "\n",
    "print(100*df['EVOLUCAO'][((df['RENAL'] ==1) & (df['EVOLUCAO'] != 9))].value_counts()/df['EVOLUCAO'][((df['RENAL'] == 1) & (df['EVOLUCAO'] != 9))].notnull().sum())\n"
   ]
  },
  {
   "cell_type": "code",
   "execution_count": 22,
   "metadata": {},
   "outputs": [
    {
     "name": "stdout",
     "output_type": "stream",
     "text": [
      "17\n",
      "2.0    13\n",
      "1.0     4\n",
      "Name: EVOLUCAO, dtype: int64\n",
      "2.0    76.470588\n",
      "1.0    23.529412\n",
      "Name: EVOLUCAO, dtype: float64\n"
     ]
    }
   ],
   "source": [
    "# Liver disease\n",
    " \n",
    "\n",
    "print(df['EVOLUCAO'][((df['HEPATICA'] ==1 ) & (df['EVOLUCAO'] != 9))].notnull().sum())\n",
    "print(df['EVOLUCAO'][((df['HEPATICA'] ==1 ) & (df['EVOLUCAO'] != 9))].value_counts())\n",
    "\n",
    "print(100*df['EVOLUCAO'][((df['HEPATICA'] ==1) & (df['EVOLUCAO'] != 9))].value_counts()/df['EVOLUCAO'][((df['HEPATICA'] == 1) & (df['EVOLUCAO'] != 9))].notnull().sum())\n"
   ]
  },
  {
   "cell_type": "code",
   "execution_count": 23,
   "metadata": {},
   "outputs": [
    {
     "name": "stdout",
     "output_type": "stream",
     "text": [
      "33\n",
      "2.0    26\n",
      "1.0     7\n",
      "Name: EVOLUCAO, dtype: int64\n",
      "2.0    78.787879\n",
      "1.0    21.212121\n",
      "Name: EVOLUCAO, dtype: float64\n"
     ]
    }
   ],
   "source": [
    "# Neurological disease\n",
    "\n",
    "print(df['EVOLUCAO'][((df['NEUROLOGIC'] ==1 ) & (df['EVOLUCAO'] != 9))].notnull().sum())\n",
    "print(df['EVOLUCAO'][((df['NEUROLOGIC'] ==1 ) & (df['EVOLUCAO'] != 9))].value_counts())\n",
    "\n",
    "print(100*df['EVOLUCAO'][((df['NEUROLOGIC'] ==1) & (df['EVOLUCAO'] != 9))].value_counts()/df['EVOLUCAO'][((df['NEUROLOGIC'] == 1) & (df['EVOLUCAO'] != 9))].notnull().sum())\n"
   ]
  },
  {
   "cell_type": "code",
   "execution_count": 24,
   "metadata": {},
   "outputs": [
    {
     "name": "stdout",
     "output_type": "stream",
     "text": [
      "8\n",
      "2.0    6\n",
      "1.0    2\n",
      "Name: EVOLUCAO, dtype: int64\n",
      "2.0    75.0\n",
      "1.0    25.0\n",
      "Name: EVOLUCAO, dtype: float64\n"
     ]
    }
   ],
   "source": [
    "# Hematological disease\n",
    "\n",
    "print(df['EVOLUCAO'][((df['HEMATOLOGI'] ==1 ) & (df['EVOLUCAO'] != 9))].notnull().sum())\n",
    "print(df['EVOLUCAO'][((df['HEMATOLOGI'] ==1 ) & (df['EVOLUCAO'] != 9))].value_counts())\n",
    "\n",
    "print(100*df['EVOLUCAO'][((df['HEMATOLOGI'] ==1) & (df['EVOLUCAO'] != 9))].value_counts()/df['EVOLUCAO'][((df['HEMATOLOGI'] == 1) & (df['EVOLUCAO'] != 9))].notnull().sum())\n"
   ]
  },
  {
   "cell_type": "code",
   "execution_count": 25,
   "metadata": {},
   "outputs": [
    {
     "name": "stdout",
     "output_type": "stream",
     "text": [
      "(2043, 138)\n"
     ]
    }
   ],
   "source": [
    "print(df.shape)"
   ]
  }
 ],
 "metadata": {
  "kernelspec": {
   "display_name": "Python 3",
   "language": "python",
   "name": "python3"
  },
  "language_info": {
   "codemirror_mode": {
    "name": "ipython",
    "version": 3
   },
   "file_extension": ".py",
   "mimetype": "text/x-python",
   "name": "python",
   "nbconvert_exporter": "python",
   "pygments_lexer": "ipython3",
   "version": "3.7.3"
  }
 },
 "nbformat": 4,
 "nbformat_minor": 2
}
